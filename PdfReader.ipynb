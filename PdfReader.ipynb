{
  "nbformat": 4,
  "nbformat_minor": 0,
  "metadata": {
    "colab": {
      "provenance": [],
      "authorship_tag": "ABX9TyOdXzRuaVzQciXLl2jsDLB7",
      "include_colab_link": true
    },
    "kernelspec": {
      "name": "python3",
      "display_name": "Python 3"
    },
    "language_info": {
      "name": "python"
    }
  },
  "cells": [
    {
      "cell_type": "markdown",
      "metadata": {
        "id": "view-in-github",
        "colab_type": "text"
      },
      "source": [
        "<a href=\"https://colab.research.google.com/github/Ashima-Jain2001/Pdf_Parsing/blob/main/PdfReader.ipynb\" target=\"_parent\"><img src=\"https://colab.research.google.com/assets/colab-badge.svg\" alt=\"Open In Colab\"/></a>"
      ]
    },
    {
      "cell_type": "code",
      "execution_count": 5,
      "metadata": {
        "colab": {
          "base_uri": "https://localhost:8080/"
        },
        "id": "njcj1IfgA47y",
        "outputId": "483763f4-8a8e-40ad-f800-3ad760174fc4"
      },
      "outputs": [
        {
          "output_type": "stream",
          "name": "stdout",
          "text": [
            "Collecting pdfplumber\n",
            "  Downloading pdfplumber-0.11.5-py3-none-any.whl.metadata (42 kB)\n",
            "\u001b[?25l     \u001b[90m━━━━━━━━━━━━━━━━━━━━━━━━━━━━━━━━━━━━━━━━\u001b[0m \u001b[32m0.0/42.5 kB\u001b[0m \u001b[31m?\u001b[0m eta \u001b[36m-:--:--\u001b[0m\r\u001b[2K     \u001b[90m━━━━━━━━━━━━━━━━━━━━━━━━━━━━━━━━━━━━━━━━\u001b[0m \u001b[32m42.5/42.5 kB\u001b[0m \u001b[31m1.6 MB/s\u001b[0m eta \u001b[36m0:00:00\u001b[0m\n",
            "\u001b[?25hCollecting pdfminer.six==20231228 (from pdfplumber)\n",
            "  Downloading pdfminer.six-20231228-py3-none-any.whl.metadata (4.2 kB)\n",
            "Requirement already satisfied: Pillow>=9.1 in /usr/local/lib/python3.11/dist-packages (from pdfplumber) (11.1.0)\n",
            "Collecting pypdfium2>=4.18.0 (from pdfplumber)\n",
            "  Downloading pypdfium2-4.30.1-py3-none-manylinux_2_17_x86_64.manylinux2014_x86_64.whl.metadata (48 kB)\n",
            "\u001b[2K     \u001b[90m━━━━━━━━━━━━━━━━━━━━━━━━━━━━━━━━━━━━━━━━\u001b[0m \u001b[32m48.2/48.2 kB\u001b[0m \u001b[31m2.8 MB/s\u001b[0m eta \u001b[36m0:00:00\u001b[0m\n",
            "\u001b[?25hRequirement already satisfied: charset-normalizer>=2.0.0 in /usr/local/lib/python3.11/dist-packages (from pdfminer.six==20231228->pdfplumber) (3.4.1)\n",
            "Requirement already satisfied: cryptography>=36.0.0 in /usr/local/lib/python3.11/dist-packages (from pdfminer.six==20231228->pdfplumber) (43.0.3)\n",
            "Requirement already satisfied: cffi>=1.12 in /usr/local/lib/python3.11/dist-packages (from cryptography>=36.0.0->pdfminer.six==20231228->pdfplumber) (1.17.1)\n",
            "Requirement already satisfied: pycparser in /usr/local/lib/python3.11/dist-packages (from cffi>=1.12->cryptography>=36.0.0->pdfminer.six==20231228->pdfplumber) (2.22)\n",
            "Downloading pdfplumber-0.11.5-py3-none-any.whl (59 kB)\n",
            "\u001b[2K   \u001b[90m━━━━━━━━━━━━━━━━━━━━━━━━━━━━━━━━━━━━━━━━\u001b[0m \u001b[32m59.5/59.5 kB\u001b[0m \u001b[31m4.1 MB/s\u001b[0m eta \u001b[36m0:00:00\u001b[0m\n",
            "\u001b[?25hDownloading pdfminer.six-20231228-py3-none-any.whl (5.6 MB)\n",
            "\u001b[2K   \u001b[90m━━━━━━━━━━━━━━━━━━━━━━━━━━━━━━━━━━━━━━━━\u001b[0m \u001b[32m5.6/5.6 MB\u001b[0m \u001b[31m44.4 MB/s\u001b[0m eta \u001b[36m0:00:00\u001b[0m\n",
            "\u001b[?25hDownloading pypdfium2-4.30.1-py3-none-manylinux_2_17_x86_64.manylinux2014_x86_64.whl (2.9 MB)\n",
            "\u001b[2K   \u001b[90m━━━━━━━━━━━━━━━━━━━━━━━━━━━━━━━━━━━━━━━━\u001b[0m \u001b[32m2.9/2.9 MB\u001b[0m \u001b[31m59.4 MB/s\u001b[0m eta \u001b[36m0:00:00\u001b[0m\n",
            "\u001b[?25hInstalling collected packages: pypdfium2, pdfminer.six, pdfplumber\n",
            "Successfully installed pdfminer.six-20231228 pdfplumber-0.11.5 pypdfium2-4.30.1\n"
          ]
        }
      ],
      "source": [
        "pip install pdfplumber\n"
      ]
    },
    {
      "cell_type": "code",
      "source": [
        "import pandas as pd\n",
        "import pdfplumber\n",
        "\n",
        "with pdfplumber.open(\"test3 (1).pdf\") as pdf:\n",
        "    text = \"\\n\".join(page.extract_text() for page in pdf.pages if page.extract_text())\n",
        "\n",
        "lines = text.split(\"\\n\")\n",
        "table_data = [line.split() for line in lines]\n",
        "\n",
        "df = pd.DataFrame(table_data)\n",
        "print(df)"
      ],
      "metadata": {
        "colab": {
          "base_uri": "https://localhost:8080/"
        },
        "id": "gf460UaZClP9",
        "outputId": "071fc7c3-9693-4800-b53b-a5f1310a5efc"
      },
      "execution_count": 17,
      "outputs": [
        {
          "output_type": "stream",
          "name": "stdout",
          "text": [
            "             0        1              2           3         4         5   \\\n",
            "0          BANK     NAME              :      PUNJAB       AND      SIND   \n",
            "1        BRANCH     NAME              :   JALANDHAR       SME  13:15:47   \n",
            "2       ADDRESS        :            201  INDUSTRIAL      AREA      None   \n",
            "3     JALANDHAR     None           None        None      None      None   \n",
            "4          CITY        :      JALANDHAR    (PUNJAB)      None      None   \n",
            "..          ...      ...            ...         ...       ...       ...   \n",
            "269     contact     home         branch        None      None      None   \n",
            "270  Note:DICGC  insures      principal           &  interest        of   \n",
            "271  admissible   amount             of          Rs         5      lakh   \n",
            "272     subject       to        changes        from      time        to   \n",
            "273     ****END       OF  STATEMENT****        None      None      None   \n",
            "\n",
            "            6                7      8        9       10    11  \n",
            "0         BANK       26-06-2023   None     None    None  None  \n",
            "1         None             None   None     None    None  None  \n",
            "2         None             None   None     None    None  None  \n",
            "3         None             None   None     None    None  None  \n",
            "4         None             None   None     None    None  None  \n",
            "..         ...              ...    ...      ...     ...   ...  \n",
            "269       None             None   None     None    None  None  \n",
            "270   eligible  depositors,upto      a  maximum    None  None  \n",
            "271       None             None   None     None    None  None  \n",
            "272  time**T&C               of  DICGC    shall  apply.  None  \n",
            "273       None             None   None     None    None  None  \n",
            "\n",
            "[274 rows x 12 columns]\n"
          ]
        }
      ]
    },
    {
      "cell_type": "code",
      "source": [
        "df.to_excel(\"test3.xlsx\")"
      ],
      "metadata": {
        "id": "1yVshpcuC3Ki"
      },
      "execution_count": 18,
      "outputs": []
    },
    {
      "cell_type": "code",
      "source": [
        "import pandas as pd\n",
        "import pdfplumber\n",
        "\n",
        "with pdfplumber.open(\"test6 (1).pdf\") as pdf:\n",
        "    text = \"\\n\".join(page.extract_text() for page in pdf.pages if page.extract_text())\n",
        "\n",
        "lines = text.split(\"\\n\")\n",
        "table_data = [line.split() for line in lines]\n",
        "\n",
        "df = pd.DataFrame(table_data)\n",
        "print(df)"
      ],
      "metadata": {
        "colab": {
          "base_uri": "https://localhost:8080/"
        },
        "id": "r4rguLAWC4JS",
        "outputId": "edc0005c-d9e5-4150-c491-73f0b7560b75"
      },
      "execution_count": 19,
      "outputs": [
        {
          "output_type": "stream",
          "name": "stdout",
          "text": [
            "                                                     0  \\\n",
            "0    (cid:44)(cid:7)(cid:18)(cid:19)(cid:8)(cid:15)...   \n",
            "1    (cid:4)(cid:5)(cid:6)(cid:7)(cid:8)(cid:9)(cid...   \n",
            "2    (cid:12)(cid:13)(cid:13)(cid:5)(cid:14)(cid:9)...   \n",
            "3    (cid:20)(cid:5)(cid:21)(cid:15)(cid:22)(cid:8)...   \n",
            "4    (cid:4)(cid:14)(cid:19)(cid:19)(cid:18)(cid:9)...   \n",
            "..                                                 ...   \n",
            "914  (cid:30)(cid:19)(cid:8)(cid:9)(cid:21)(cid:61)...   \n",
            "915  (cid:38)(cid:16)(cid:31)(cid:42)(cid:45)(cid:2...   \n",
            "916  (cid:30)(cid:12)(cid:16)(cid:12)(cid:30)(cid:4...   \n",
            "917  (cid:72)(cid:72)(cid:48)(cid:9)(cid:33)(cid:44...   \n",
            "918  (cid:20)(cid:8)(cid:55)(cid:18)(cid:11)(cid:25...   \n",
            "\n",
            "                                                     1     2     3     4  \\\n",
            "0                                                 None  None  None  None   \n",
            "1                                                 None  None  None  None   \n",
            "2                                                 None  None  None  None   \n",
            "3    (cid:20)(cid:5)(cid:21)(cid:15)(cid:22)(cid:8)...  None  None  None   \n",
            "4    (cid:22)(cid:18)(cid:17)(cid:32)(cid:15)(cid:2...  None  None  None   \n",
            "..                                                 ...   ...   ...   ...   \n",
            "914                                               None  None  None  None   \n",
            "915                                               None  None  None  None   \n",
            "916                                               None  None  None  None   \n",
            "917                                               None  None  None  None   \n",
            "918                                               None  None  None  None   \n",
            "\n",
            "        5     6     7     8     9  \n",
            "0    None  None  None  None  None  \n",
            "1    None  None  None  None  None  \n",
            "2    None  None  None  None  None  \n",
            "3    None  None  None  None  None  \n",
            "4    None  None  None  None  None  \n",
            "..    ...   ...   ...   ...   ...  \n",
            "914  None  None  None  None  None  \n",
            "915  None  None  None  None  None  \n",
            "916  None  None  None  None  None  \n",
            "917  None  None  None  None  None  \n",
            "918  None  None  None  None  None  \n",
            "\n",
            "[919 rows x 10 columns]\n"
          ]
        }
      ]
    },
    {
      "cell_type": "code",
      "source": [
        "df.to_excel(\"test6.xlsx\")"
      ],
      "metadata": {
        "id": "FA284nhPJ2Kz"
      },
      "execution_count": 20,
      "outputs": []
    }
  ]
}